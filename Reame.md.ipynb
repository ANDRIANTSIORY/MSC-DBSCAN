{
 "cells": [
  {
   "cell_type": "markdown",
   "id": "780be132",
   "metadata": {},
   "source": [
    "# Multi-Slice Clustering Extension"
   ]
  },
  {
   "cell_type": "markdown",
   "id": "92904aad",
   "metadata": {},
   "source": [
    "This code implement the extension of the Multi-Slice clustering algorithm [1]. Our algorithm is called MSC-Extension, aims to extract the different clusters of slices that lie in the different subspaces from the data if the dataset is a sum of r rank-one tensor (r > 0). Our algorithm uses the\n",
    "same input hyperparameter as the MSC algorithm."
   ]
  },
  {
   "cell_type": "markdown",
   "id": "418173a7",
   "metadata": {},
   "source": [
    "![an image.](msc-extension.png)"
   ]
  },
  {
   "cell_type": "markdown",
   "id": "f9f72ace",
   "metadata": {},
   "source": [
    "* The MSC deliver the two clusters as a single cluster\n",
    "* The MSC-Extension is able to separate these two clusters"
   ]
  }
 ],
 "metadata": {
  "kernelspec": {
   "display_name": "Python 3 (ipykernel)",
   "language": "python",
   "name": "python3"
  },
  "language_info": {
   "codemirror_mode": {
    "name": "ipython",
    "version": 3
   },
   "file_extension": ".py",
   "mimetype": "text/x-python",
   "name": "python",
   "nbconvert_exporter": "python",
   "pygments_lexer": "ipython3",
   "version": "3.8.10"
  }
 },
 "nbformat": 4,
 "nbformat_minor": 5
}
