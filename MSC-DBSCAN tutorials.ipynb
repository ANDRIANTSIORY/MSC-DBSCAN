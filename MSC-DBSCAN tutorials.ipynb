{
 "cells": [
  {
   "cell_type": "code",
   "execution_count": 1,
   "id": "34354fdf",
   "metadata": {},
   "outputs": [],
   "source": [
    "# Packages\n",
    "import generate_3_D_tensor as gdata\n",
    "import numpy as np\n",
    "import msc_multiple as msc_multiple\n",
    "import matplotlib.pyplot as plt\n",
    "%matplotlib inline\n",
    "from sklearn.cluster import DBSCAN\n",
    "import itertools\n",
    "import fonctions as f\n",
    "import multiple_dbscan as multiple_dbscan\n",
    "from sklearn.metrics.cluster import adjusted_rand_score"
   ]
  },
  {
   "cell_type": "code",
   "execution_count": 4,
   "id": "7347361a",
   "metadata": {},
   "outputs": [],
   "source": [
    "sigma = 80\n",
    "m = 50 # the dimension of each mode\n",
    "k = 2  # the number of cluster in each mode\n",
    "\n",
    "# -----------------------\n",
    "mse_MSC , mse_Extension, number_cluster = [], [], []\n",
    "for test in range(20):\n",
    "    # generate data\n",
    "    D = gdata.Data_generator(m,m,m,k1=10,k2=10,k3=10, cluster=k, sigma=sigma) \n",
    "    data1 = D.multiple_cluster()\n",
    "    # -------------Set the value of epsilon-------\n",
    "    e_ = 0.001\n",
    "    res = msc_multiple.Msc(data1, e_ = e_)\n",
    "    \n",
    "    msc_output = res.get_result_triclustering()\n",
    "    \n",
    "    sim_matrices = res.get_cij()\n",
    "    # separation of indices\n",
    "    output_dbscan = []\n",
    "    for h in range(3): # the cluster in the three mode\n",
    "        # recover the similarity matrix\n",
    "        data = sim_matrices[h].T\n",
    "        data = data[msc_output[h][0],:]\n",
    "        epsilon = (len(data[:,0])*e_ / 2 + np.sqrt(np.log(m - len(data[:,0]))))**0.5\n",
    "        clustering = DBSCAN(eps=epsilon, min_samples=2).fit(np.abs(data))\n",
    "        cluster = clustering.labels_\n",
    "        cluster_uniq = np.unique(cluster)\n",
    "        number_cluster.append(len(cluster_uniq))\n",
    "        \n",
    "        indices = []\n",
    "        for i in cluster_uniq:\n",
    "            intermediate = [msc_output[h][0][g] for g, j in enumerate(cluster) if j == i]\n",
    "            indices.append(intermediate)\n",
    "        output_dbscan.append(indices)\n",
    "        \n",
    "    # MSC\n",
    "    mse_MSC.append(f.rmse(data1, msc_output[0][0], msc_output[1][0], msc_output[2][0]) )\n",
    "    # MSC-Extension\n",
    "    mse_E = []\n",
    "    for j in itertools.product(output_dbscan[0], output_dbscan[1], output_dbscan[2]):\n",
    "        mse_E.append(f.rmse(data1, j[0], j[1], j[2]))\n",
    "    mse_Extension.append(np.mean(mse_E))"
   ]
  },
  {
   "cell_type": "code",
   "execution_count": 5,
   "id": "6a658671",
   "metadata": {},
   "outputs": [
    {
     "name": "stdout",
     "output_type": "stream",
     "text": [
      "MSC : mean =  120.19567833406484  and std =  11.281216837498388\n",
      "MSC-extension : mean =  28.40480152637726  and std =  2.9008088369584546\n",
      "Number of cluster in each mode with MSC-Extension :  [2]\n"
     ]
    }
   ],
   "source": [
    "print(\"MSC : mean = \", np.mean(mse_MSC), \" and std = \", np.std(mse_MSC))\n",
    "print(\"MSC-extension : mean = \", np.mean(mse_Extension), \" and std = \", np.std(mse_Extension))\n",
    "print(\"Number of cluster in each mode with MSC-Extension : \", np.unique(number_cluster))"
   ]
  },
  {
   "cell_type": "code",
   "execution_count": 6,
   "id": "4b6b6857",
   "metadata": {},
   "outputs": [
    {
     "data": {
      "image/png": "[encoded data removed]",
      "text/plain": [
       "<Figure size 432x288 with 1 Axes>"
      ]
     },
     "metadata": {
      "needs_background": "light"
     },
     "output_type": "display_data"
    }
   ],
   "source": [
    "mse = [mse_MSC, mse_Extension]\n",
    "plt.boxplot(mse,patch_artist=True,labels=['MSC','MSC-DBSCAN'])\n",
    "plt.ylabel(\"Root Mean square Error\")\n",
    "#plt.savefig('./image/msc_and_extension.png')\n",
    "plt.show()"
   ]
  },
  {
   "cell_type": "code",
   "execution_count": null,
   "id": "43053d1f",
   "metadata": {},
   "outputs": [],
   "source": []
  },
  {
   "cell_type": "code",
   "execution_count": 7,
   "id": "a4891bcb",
   "metadata": {},
   "outputs": [],
   "source": [
    "#------Adjusted Rand Index------------------\n",
    "sigma = 80\n",
    "m = 50 # the dimension of each mode\n",
    "k = 2  # the number of cluster in each mode\n",
    "# -------Real clusters----------------\n",
    "real = [0 for i in range(10)] + [1 for i in range(10)] + [2 for _ in range(m-20)]\n",
    "# -----------------------\n",
    "ARI_mean, ARI_std = [], []\n",
    "for sigma in range(50,101,5):\n",
    "    ari = []\n",
    "    for _ in range(10):\n",
    "        # generate data\n",
    "        D = gdata.Data_generator(m,m,m,k1=10,k2=10,k3=10, cluster=k, sigma=sigma) \n",
    "        data1 = D.multiple_cluster()\n",
    "        # -------------Set the value of epsilon-------\n",
    "        e_ = 0.001\n",
    "        res = msc_multiple.Msc(data1, e_ = e_)\n",
    "    \n",
    "        msc_output = res.get_result_triclustering()\n",
    "        sim_matrices = res.get_cij()\n",
    "        # MSC-Extension\n",
    "        indices = []\n",
    "        for j in range(3):\n",
    "            intermediate = []\n",
    "            for i in range(len(msc_output[0])):\n",
    "                intermediate = intermediate  + msc_output[j][i] \n",
    "            indices.append(list(set(intermediate)))\n",
    "        \n",
    "        dim = (m,m,m)  # data1.shape\n",
    "        MscExtension = multiple_dbscan.Msc_extension(dim, sim_matrices, indices, e_, minP=2)\n",
    "        cluster = MscExtension._result[0].tolist()\n",
    "        cluster = cluster + [2 for _ in range(m-len(cluster))]\n",
    "        ari.append(adjusted_rand_score(real, cluster))\n",
    "    ARI_mean.append( np.mean(ari)  )\n",
    "    ARI_std.append( np.std(ari) )"
   ]
  },
  {
   "cell_type": "code",
   "execution_count": null,
   "id": "2bad88e4",
   "metadata": {},
   "outputs": [],
   "source": [
    "print( ARI_mean, \" and \",  ARI_std )\n",
    "x = [i for i in range(50,101,5)]\n",
    "plt.errorbar(x, ARI_mean, ARI_std, linestyle='None', marker='')\n",
    "plt.plot(x, ARI_mean, label=\"ARI\")\n",
    "plt.xlabel(\"gamma\")\n",
    "plt.ylabel(\"ARI\")\n",
    "plt.legend(loc=\"lower right\")\n",
    "plt.savefig('./image/ARI_Extension.png')\n",
    "plt.show()"
   ]
  },
  {
   "cell_type": "markdown",
   "id": "74eb54f2",
   "metadata": {},
   "source": [
    "# REAL DATA"
   ]
  },
  {
   "cell_type": "code",
   "execution_count": 3,
   "id": "2b18aa07",
   "metadata": {},
   "outputs": [
    {
     "name": "stdout",
     "output_type": "stream",
     "text": [
      "the keys : dict_keys(['__header__', '__version__', '__globals__', 'ans', 'X', 'DimX', 'y', 'Xs', 'ys', 'TimeAxis', 'Wavelength'])\n",
      "X dimension : [[ 12 100  89]]\n",
      "data dimension : (12, 100, 89)\n"
     ]
    }
   ],
   "source": [
    "# Packages\n",
    "from scipy.io import loadmat\n",
    "import numpy as np\n",
    "from numpy import linalg as la\n",
    "import random\n",
    "# -----------------------------\n",
    "annots = loadmat('../../data/Flow_Injection/fia.mat')\n",
    "print(\"the keys :\" , annots.keys() )\n",
    "\n",
    "d = annots['X']\n",
    "print(\"X dimension :\", annots[\"DimX\"])\n",
    "\n",
    "data = np.reshape(d, (12,100,89), order=\"F\")\n",
    "print(\"data dimension :\", data.shape)"
   ]
  },
  {
   "cell_type": "code",
   "execution_count": 5,
   "id": "ace4e447",
   "metadata": {},
   "outputs": [
    {
     "name": "stdout",
     "output_type": "stream",
     "text": [
      "MSC cluster : [[[6, 10, 11]], [[0, 1, 2, 3, 4, 5, 6, 7, 8]], [[28, 29, 30, 31, 32, 33, 34, 35, 36, 37, 38, 39, 40, 41, 42, 43, 44, 45, 46, 47]]]\n",
      "MSC_Extension : [array([0, 0, 0]), array([0, 0, 0, 0, 0, 0, 0, 0, 0]), array([0, 0, 0, 0, 0, 0, 0, 0, 0, 0, 0, 0, 0, 0, 0, 0, 0, 0, 0, 0])]\n"
     ]
    }
   ],
   "source": [
    "# Evaluation for several repetition \n",
    "# Iterative MSC and MSC-Extension\n",
    "data1 = data\n",
    "\n",
    "e_ = 0.00013\n",
    "res = msc_multiple.Msc(data1, e_ = e_)\n",
    "  \n",
    "msc_output = res.get_result_triclustering()\n",
    "sim_matrices = res.get_cij()\n",
    "    \n",
    "# MSC-Extension\n",
    "index = []\n",
    "for j in range(3):\n",
    "    intermediate = []\n",
    "    for i in range(len(msc_output[0])):\n",
    "        intermediate = intermediate  + msc_output[j][i] \n",
    "    index.append(list(set(intermediate)))\n",
    "        \n",
    "dim = data1.shape\n",
    "MscExtension = multiple_dbscan.Msc_extension(dim, sim_matrices, index, e_, minP=2)\n",
    "\n",
    "# -----The clusters------\n",
    "print(\"MSC cluster :\", msc_output)\n",
    "print(\"MSC_Extension :\", MscExtension._result)"
   ]
  },
  {
   "cell_type": "code",
   "execution_count": 24,
   "id": "1d9ddef1",
   "metadata": {},
   "outputs": [
    {
     "name": "stdout",
     "output_type": "stream",
     "text": [
      "RMSE MSC :  [4.923709752827713]\n",
      "RMSE MSC-extension :  [4.923709752827713]\n"
     ]
    }
   ],
   "source": [
    "mse_MSC , mse_Extension = [], []\n",
    "\n",
    "# Mean Square Error\n",
    "mse_msc = []\n",
    "for j in itertools.product(msc_output[0], msc_output[1], msc_output[2]):\n",
    "    mse_msc.append(f.rmse(data1, j[0], j[1], j[2]))\n",
    "\n",
    "mse_dbscan = []\n",
    "for j in itertools.product(MscExtension._cluster_real_index[0], MscExtension._cluster_real_index[1], MscExtension._cluster_real_index[2]):\n",
    "    mse_dbscan.append(f.rmse(data1, j[0], j[1], j[2]))\n",
    "    \n",
    "mse_MSC.append(np.mean(mse_msc)**0.5)\n",
    "mse_Extension.append(np.mean(mse_dbscan)**0.5)\n",
    "    \n",
    "# ---- RMSE -----------\n",
    "print(\"RMSE MSC : \", mse_MSC, )\n",
    "print(\"RMSE MSC-extension : \", mse_Extension)"
   ]
  },
  {
   "cell_type": "code",
   "execution_count": null,
   "id": "be35feeb",
   "metadata": {},
   "outputs": [],
   "source": []
  }
 ],
 "metadata": {
  "kernelspec": {
   "display_name": "Python 3 (ipykernel)",
   "language": "python",
   "name": "python3"
  },
  "language_info": {
   "codemirror_mode": {
    "name": "ipython",
    "version": 3
   },
   "file_extension": ".py",
   "mimetype": "text/x-python",
   "name": "python",
   "nbconvert_exporter": "python",
   "pygments_lexer": "ipython3",
   "version": "3.8.10"
  }
 },
 "nbformat": 4,
 "nbformat_minor": 5
}
