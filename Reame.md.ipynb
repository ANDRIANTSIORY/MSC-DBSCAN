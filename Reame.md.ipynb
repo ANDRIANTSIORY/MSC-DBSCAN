{
 "cells": [
  {
   "cell_type": "markdown",
   "id": "780be132",
   "metadata": {},
   "source": [
    "# Multi-Slice Clustering Extension"
   ]
  },
  {
   "cell_type": "markdown",
   "id": "92904aad",
   "metadata": {},
   "source": [
    "\n",
    "This code implements the extension of the multi-slice clustering algorithm [1]. Our algorithm, called MSC extension, aims to extract the different clusters of slices that lie in the different subspaces from the data when the data set is a sum of r rank-one tensors (r > 0). Our algorithm uses the\n",
    "same input hyperparameters as the MSC algorithm.\n",
    "\n",
    "\n"
   ]
  },
  {
   "cell_type": "markdown",
   "id": "c3703ad8",
   "metadata": {},
   "source": [
    "![an image](msc-extension.png)"
   ]
  },
  {
   "cell_type": "markdown",
   "id": "3de558ee",
   "metadata": {},
   "source": [
    "\n",
    "* The MSC returns the two clusters as a single cluster.\n",
    "* The MSC extension is able to separate the two clusters."
   ]
  }
 ],
 "metadata": {
  "kernelspec": {
   "display_name": "Python 3 (ipykernel)",
   "language": "python",
   "name": "python3"
  },
  "language_info": {
   "codemirror_mode": {
    "name": "ipython",
    "version": 3
   },
   "file_extension": ".py",
   "mimetype": "text/x-python",
   "name": "python",
   "nbconvert_exporter": "python",
   "pygments_lexer": "ipython3",
   "version": "3.8.10"
  }
 },
 "nbformat": 4,
 "nbformat_minor": 5
}
